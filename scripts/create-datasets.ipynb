{
 "cells": [
  {
   "cell_type": "code",
   "execution_count": null,
   "metadata": {},
   "outputs": [],
   "source": [
    "# MCAR\n",
    "import pandas as pd\n",
    "import numpy as np\n",
    "\n",
    "counter = 1\n",
    "for _ in range(3):\n",
    "    df = pd.read_csv(\"airlines.csv\")\n",
    "    df = df.sample(10000)\n",
    "    filename = 'airportfrom_MCAR_' + str(counter) + '_actual.csv'\n",
    "    df.to_csv(filename, index=False)\n",
    "    for percent in [.01, 0.1, 0.3]:\n",
    "        df_copy = df.copy(deep=True)\n",
    "        df_copy.loc[df.sample(frac=percent).index, \"airportfrom\"] = np.nan\n",
    "        filename = 'airportfrom_MCAR_' + str(percent*100) + \"_\" + str(counter) + '.csv'\n",
    "        df_copy.to_csv(filename, index=False)\n",
    "        \n",
    "    counter += 1"
   ]
  },
  {
   "cell_type": "code",
   "execution_count": 44,
   "metadata": {},
   "outputs": [],
   "source": [
    "# MAR\n",
    "import pandas as pd\n",
    "import numpy as np\n",
    "\n",
    "counter = 1\n",
    "for _ in range(3):\n",
    "    df = pd.read_csv(\"airlines.csv\")\n",
    "    df = df.sample(10000)\n",
    "    filename = 'airportfrom_MAR_' + str(counter) + '_actual.csv'\n",
    "    df.to_csv(filename, index=False)\n",
    "    for percent in [.01, 0.1, 0.3]:\n",
    "        df_copy = df.copy(deep=True)\n",
    "        median = df_copy['length'].median()\n",
    "        n = int(percent * 10000)\n",
    "        df_copy.loc[df_copy[df_copy[\"length\"].gt(median)].sample(n).index, \"airportfrom\"] = np.nan\n",
    "        filename = 'airportfrom_MAR_' + str(percent*100) + \"_\" + str(counter) + '.csv'\n",
    "        df_copy.to_csv(filename, index=False)\n",
    "        \n",
    "    counter += 1"
   ]
  },
  {
   "cell_type": "code",
   "execution_count": 65,
   "metadata": {},
   "outputs": [],
   "source": [
    "# MNAR\n",
    "import pandas as pd\n",
    "import numpy as np\n",
    "\n",
    "counter = 1\n",
    "for _ in range(3):\n",
    "    df = pd.read_csv(\"airlines.csv\")\n",
    "    df = df.sample(10000)\n",
    "    filename = 'airportfrom_MNAR_' + str(counter) + '_actual.csv'\n",
    "    df.to_csv(filename, index=False)\n",
    "\n",
    "    counts = df['airportfrom'].value_counts()\n",
    "    sum = 0\n",
    "    n = 0\n",
    "    for count in counts:\n",
    "        sum += count\n",
    "        n += 1\n",
    "        if sum > 5000:\n",
    "            break\n",
    "    airports = df['airportfrom'].value_counts()[:n].index\n",
    "\n",
    "    for percent in [.01, 0.1, 0.3]:\n",
    "        df_copy = df.copy(deep=True)\n",
    "        n = int(percent * 10000)\n",
    "        df_copy.loc[df_copy[df_copy[\"airportfrom\"].isin(airports)].sample(n).index, \"airportfrom\"] = np.nan\n",
    "        filename = 'airportfrom_MNAR_' + str(percent*100) + \"_\" + str(counter) + '.csv'\n",
    "        df_copy.to_csv(filename, index=False)\n",
    "        \n",
    "    counter += 1"
   ]
  }
 ],
 "metadata": {
  "kernelspec": {
   "display_name": "Python 3",
   "language": "python",
   "name": "python3"
  },
  "language_info": {
   "codemirror_mode": {
    "name": "ipython",
    "version": 3
   },
   "file_extension": ".py",
   "mimetype": "text/x-python",
   "name": "python",
   "nbconvert_exporter": "python",
   "pygments_lexer": "ipython3",
   "version": "3.9.6"
  }
 },
 "nbformat": 4,
 "nbformat_minor": 2
}
