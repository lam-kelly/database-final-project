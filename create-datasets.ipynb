{
 "cells": [
  {
   "cell_type": "code",
   "execution_count": 33,
   "metadata": {},
   "outputs": [],
   "source": [
    "import pandas as pd\n",
    "import numpy as np\n",
    "\n",
    "# df = pd.read_csv(\"airlines.csv\")\n",
    "# print(df['time'].median()) # 795\n",
    "# print(df['length'].median()) # 115\n",
    "# df = df.sample(10000)\n",
    "# n = int(df['airportfrom'].value_counts().max() * 0.1) # 34449\n",
    "# print('airport mode ', df['airportfrom'].mode()[0]) # ATL\n",
    "# df['airportfrom'].value_counts().max()\n",
    "# df.loc[df[df[\"length\"].gt(100)].sample(n).index, \"airportfrom\"] = np.nan\n",
    "# df.isnull().sum()\n",
    "\n",
    "counter = 1\n",
    "for _ in range(3):\n",
    "    df = pd.read_csv(\"airlines.csv\")\n",
    "    df = df.sample(10000)\n",
    "    filename = 'airportfrom_MAR_' + str(counter) + '_actual.csv'\n",
    "    df.to_csv(filename, index=False)\n",
    "    for percent in [.01, 0.1, 0.3, 0.5]:\n",
    "        df_copy = df.copy(deep=True)\n",
    "        n = int(df['length'].value_counts().max() * percent)\n",
    "        median = df['length'].median()\n",
    "        df.loc[df[df[\"length\"].gt(median)].sample(n).index, \"airportfrom\"] = np.nan\n",
    "        filename = 'airportfrom_MAR_' + str(percent*100) + \"_\" + str(counter) + '.csv'\n",
    "        df_copy.to_csv(filename, index=False)\n",
    "        \n",
    "    counter += 1"
   ]
  }
 ],
 "metadata": {
  "kernelspec": {
   "display_name": "Python 3",
   "language": "python",
   "name": "python3"
  },
  "language_info": {
   "codemirror_mode": {
    "name": "ipython",
    "version": 3
   },
   "file_extension": ".py",
   "mimetype": "text/x-python",
   "name": "python",
   "nbconvert_exporter": "python",
   "pygments_lexer": "ipython3",
   "version": "3.9.6"
  }
 },
 "nbformat": 4,
 "nbformat_minor": 2
}
