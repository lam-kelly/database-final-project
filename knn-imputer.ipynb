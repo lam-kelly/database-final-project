{
 "cells": [
  {
   "cell_type": "code",
   "execution_count": 126,
   "metadata": {},
   "outputs": [],
   "source": [
    "import pandas as pd\n",
    "import numpy as np\n",
    "\n",
    "df = pd.read_csv(\"airlines.csv\", nrows=5000)\n",
    "# df_copy = df_copy.drop(['PassengerId', 'Name', 'Ticket', 'Cabin'], axis=1)\n",
    "# df_copy.loc[df_copy.sample(frac=0.1).index, \"Sex\"] = np.nan\n",
    "df.loc[df.sample(frac=0.1).index, \"airportfrom\"] = np.nan\n",
    "df = df.drop(['flight'], axis=1)\n",
    "df.isnull().sum()\n",
    "nanInd = df.loc[pd.isna(df['airportfrom']), :].index\n",
    "# df\n",
    "# df_orig.info()"
   ]
  },
  {
   "cell_type": "code",
   "execution_count": 127,
   "metadata": {},
   "outputs": [
    {
     "name": "stderr",
     "output_type": "stream",
     "text": [
      "C:\\Users\\eilee\\AppData\\Local\\Temp\\ipykernel_1160\\1814354145.py:4: FutureWarning: Setting an item of incompatible dtype is deprecated and will raise in a future error of pandas. Value 'nan' has dtype incompatible with bool, please explicitly cast to a compatible dtype first.\n",
      "  cat_dummies.loc[nanInd, cat_dummies.columns.str.startswith('airportfrom_')]= np.nan\n"
     ]
    }
   ],
   "source": [
    "# cat_variables = df_copy[['Sex', 'Embarked']]\n",
    "cat_variables = df[['airline', 'airportfrom', 'airportto']]\n",
    "cat_dummies = pd.get_dummies(cat_variables, drop_first=True)\n",
    "cat_dummies.loc[nanInd, cat_dummies.columns.str.startswith('airportfrom_')]= np.nan\n",
    "# cat_dummies"
   ]
  },
  {
   "cell_type": "code",
   "execution_count": 128,
   "metadata": {},
   "outputs": [],
   "source": [
    "df = df.drop(['airline', 'airportfrom', 'airportto'], axis=1)\n",
    "df = pd.concat([df, cat_dummies], axis=1)\n",
    "# df"
   ]
  },
  {
   "cell_type": "code",
   "execution_count": 129,
   "metadata": {},
   "outputs": [
    {
     "name": "stderr",
     "output_type": "stream",
     "text": [
      "c:\\Users\\eilee\\anaconda3\\envs\\visual_inf\\Lib\\site-packages\\sklearn\\utils\\validation.py:767: FutureWarning: is_sparse is deprecated and will be removed in a future version. Check `isinstance(dtype, pd.SparseDtype)` instead.\n",
      "  if not hasattr(array, \"sparse\") and array.dtypes.apply(is_sparse).any():\n",
      "c:\\Users\\eilee\\anaconda3\\envs\\visual_inf\\Lib\\site-packages\\sklearn\\utils\\validation.py:605: FutureWarning: is_sparse is deprecated and will be removed in a future version. Check `isinstance(dtype, pd.SparseDtype)` instead.\n",
      "  if is_sparse(pd_dtype):\n",
      "c:\\Users\\eilee\\anaconda3\\envs\\visual_inf\\Lib\\site-packages\\sklearn\\utils\\validation.py:614: FutureWarning: is_sparse is deprecated and will be removed in a future version. Check `isinstance(dtype, pd.SparseDtype)` instead.\n",
      "  if is_sparse(pd_dtype) or not is_extension_array_dtype(pd_dtype):\n",
      "c:\\Users\\eilee\\anaconda3\\envs\\visual_inf\\Lib\\site-packages\\sklearn\\utils\\validation.py:767: FutureWarning: is_sparse is deprecated and will be removed in a future version. Check `isinstance(dtype, pd.SparseDtype)` instead.\n",
      "  if not hasattr(array, \"sparse\") and array.dtypes.apply(is_sparse).any():\n",
      "c:\\Users\\eilee\\anaconda3\\envs\\visual_inf\\Lib\\site-packages\\sklearn\\utils\\validation.py:605: FutureWarning: is_sparse is deprecated and will be removed in a future version. Check `isinstance(dtype, pd.SparseDtype)` instead.\n",
      "  if is_sparse(pd_dtype):\n",
      "c:\\Users\\eilee\\anaconda3\\envs\\visual_inf\\Lib\\site-packages\\sklearn\\utils\\validation.py:614: FutureWarning: is_sparse is deprecated and will be removed in a future version. Check `isinstance(dtype, pd.SparseDtype)` instead.\n",
      "  if is_sparse(pd_dtype) or not is_extension_array_dtype(pd_dtype):\n"
     ]
    }
   ],
   "source": [
    "from sklearn.preprocessing import MinMaxScaler\n",
    "\n",
    "scaler = MinMaxScaler()\n",
    "df = pd.DataFrame(scaler.fit_transform(df), columns=df.columns)\n",
    "# df"
   ]
  },
  {
   "cell_type": "code",
   "execution_count": 130,
   "metadata": {},
   "outputs": [
    {
     "name": "stderr",
     "output_type": "stream",
     "text": [
      "c:\\Users\\eilee\\anaconda3\\envs\\visual_inf\\Lib\\site-packages\\sklearn\\utils\\validation.py:767: FutureWarning: is_sparse is deprecated and will be removed in a future version. Check `isinstance(dtype, pd.SparseDtype)` instead.\n",
      "  if not hasattr(array, \"sparse\") and array.dtypes.apply(is_sparse).any():\n",
      "c:\\Users\\eilee\\anaconda3\\envs\\visual_inf\\Lib\\site-packages\\sklearn\\utils\\validation.py:605: FutureWarning: is_sparse is deprecated and will be removed in a future version. Check `isinstance(dtype, pd.SparseDtype)` instead.\n",
      "  if is_sparse(pd_dtype):\n",
      "c:\\Users\\eilee\\anaconda3\\envs\\visual_inf\\Lib\\site-packages\\sklearn\\utils\\validation.py:614: FutureWarning: is_sparse is deprecated and will be removed in a future version. Check `isinstance(dtype, pd.SparseDtype)` instead.\n",
      "  if is_sparse(pd_dtype) or not is_extension_array_dtype(pd_dtype):\n",
      "c:\\Users\\eilee\\anaconda3\\envs\\visual_inf\\Lib\\site-packages\\sklearn\\utils\\validation.py:767: FutureWarning: is_sparse is deprecated and will be removed in a future version. Check `isinstance(dtype, pd.SparseDtype)` instead.\n",
      "  if not hasattr(array, \"sparse\") and array.dtypes.apply(is_sparse).any():\n",
      "c:\\Users\\eilee\\anaconda3\\envs\\visual_inf\\Lib\\site-packages\\sklearn\\utils\\validation.py:605: FutureWarning: is_sparse is deprecated and will be removed in a future version. Check `isinstance(dtype, pd.SparseDtype)` instead.\n",
      "  if is_sparse(pd_dtype):\n",
      "c:\\Users\\eilee\\anaconda3\\envs\\visual_inf\\Lib\\site-packages\\sklearn\\utils\\validation.py:614: FutureWarning: is_sparse is deprecated and will be removed in a future version. Check `isinstance(dtype, pd.SparseDtype)` instead.\n",
      "  if is_sparse(pd_dtype) or not is_extension_array_dtype(pd_dtype):\n"
     ]
    }
   ],
   "source": [
    "from sklearn.impute import KNNImputer\n",
    "imputer = KNNImputer(n_neighbors=5)\n",
    "df = pd.DataFrame(imputer.fit_transform(df), columns=df.columns)\n",
    "# df"
   ]
  },
  {
   "cell_type": "code",
   "execution_count": 141,
   "metadata": {},
   "outputs": [
    {
     "data": {
      "text/plain": [
       "12      IAD\n",
       "16      IDA\n",
       "19      BNA\n",
       "21      ATL\n",
       "31      IAH\n",
       "       ... \n",
       "4937    BHM\n",
       "4966    DEN\n",
       "4977    ORD\n",
       "4992    DCA\n",
       "4996    ELP\n",
       "Name: airport_from, Length: 500, dtype: object"
      ]
     },
     "execution_count": 141,
     "metadata": {},
     "output_type": "execute_result"
    }
   ],
   "source": [
    "imputed = df.drop(['time', 'length', 'dayofweek', 'delay'], axis=1)\n",
    "imputed = imputed[imputed.columns[imputed.columns.str.startswith('airportfrom_')]]\n",
    "imputed = imputed.loc[nanInd]\n",
    "imputed['airport_from'] = imputed.idxmax(axis=1)\n",
    "# imputed['airportfrom']='' # to create an empty column\n",
    "# for col_name in imputed.columns:\n",
    "#     imputed.loc[imputed[col_name]==1,'airportfrom']= imputed['airportfrom']+' '+col_name\n",
    "imputed = imputed['airport_from'].str.slice(start=12)\n",
    "imputed"
   ]
  },
  {
   "cell_type": "code",
   "execution_count": 136,
   "metadata": {},
   "outputs": [
    {
     "data": {
      "text/plain": [
       "12      LGB\n",
       "16      LAX\n",
       "19      SAV\n",
       "21      FLL\n",
       "31      EYW\n",
       "       ... \n",
       "4937    BNA\n",
       "4966    SLC\n",
       "4977    ORD\n",
       "4992    PIT\n",
       "4996    BNA\n",
       "Name: airportfrom, Length: 500, dtype: object"
      ]
     },
     "execution_count": 136,
     "metadata": {},
     "output_type": "execute_result"
    }
   ],
   "source": [
    "original = pd.read_csv(\"airlines.csv\", nrows=5000)\n",
    "original = original.loc[nanInd]['airportfrom']\n",
    "original"
   ]
  },
  {
   "cell_type": "code",
   "execution_count": 144,
   "metadata": {},
   "outputs": [
    {
     "data": {
      "text/plain": [
       "0.22999999999999998"
      ]
     },
     "execution_count": 144,
     "metadata": {},
     "output_type": "execute_result"
    }
   ],
   "source": [
    "1-original.compare(imputed).shape[0]/original.shape[0]"
   ]
  }
 ],
 "metadata": {
  "kernelspec": {
   "display_name": "Python 3",
   "language": "python",
   "name": "python3"
  },
  "language_info": {
   "codemirror_mode": {
    "name": "ipython",
    "version": 3
   },
   "file_extension": ".py",
   "mimetype": "text/x-python",
   "name": "python",
   "nbconvert_exporter": "python",
   "pygments_lexer": "ipython3",
   "version": "3.11.5"
  }
 },
 "nbformat": 4,
 "nbformat_minor": 2
}
